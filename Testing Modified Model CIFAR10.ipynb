{
 "cells": [
  {
   "cell_type": "code",
   "execution_count": 13,
   "metadata": {},
   "outputs": [],
   "source": [
    "import torch \n",
    "import numpy as np\n",
    "import torch.nn as nn\n",
    "import torch.nn.functional as F\n",
    "import torchvision\n",
    "import numpy as np\n",
    "import torchvision.transforms as transforms\n",
    "from torch.nn.utils import clip_grad_norm_\n",
    "from sklearn.metrics import precision_score,recall_score,f1_score,accuracy_score\n",
    "import matplotlib.pyplot as plt"
   ]
  },
  {
   "cell_type": "code",
   "execution_count": 2,
   "metadata": {},
   "outputs": [],
   "source": [
    "USE_CUDA =  True if torch.cuda.is_available() else False"
   ]
  },
  {
   "cell_type": "code",
   "execution_count": 9,
   "metadata": {},
   "outputs": [
    {
     "name": "stdout",
     "output_type": "stream",
     "text": [
      "Files already downloaded and verified\n",
      "Files already downloaded and verified\n"
     ]
    }
   ],
   "source": [
    "transform = transforms.Compose([\n",
    "                transforms.ToTensor(),\n",
    "                transforms.Normalize((0.5, 0.5, 0.5), (0.5, 0.5, 0.5))\n",
    "            ])\n",
    "\n",
    "trainset = torchvision.datasets.CIFAR10('/cifar10/', train=True,download=True, transform=transform)\n",
    "trainloader = torch.utils.data.DataLoader(trainset,shuffle=True, num_workers=2, batch_size = 10)\n",
    "\n",
    "testset = torchvision.datasets.CIFAR10('/cifar10/', train=False,download=True, transform=transform)\n",
    "testloader = torch.utils.data.DataLoader(testset,shuffle=False, num_workers=2, batch_size = 100)"
   ]
  },
  {
   "cell_type": "code",
   "execution_count": 7,
   "metadata": {},
   "outputs": [],
   "source": [
    "cifar10_labels = [\"airplane\", \"automobile\", \"bird\", \"cat\", \"deer\", \"dog\", \"frog\", \"horse\", \"ship\", \"truck\"]"
   ]
  },
  {
   "cell_type": "code",
   "execution_count": 4,
   "metadata": {},
   "outputs": [],
   "source": [
    "class ConvLayer(nn.Module):\n",
    "    def __init__(self, in_channels=1, out_channels=256, kernel_size=9):\n",
    "        super(ConvLayer, self).__init__()\n",
    "\n",
    "        self.conv = nn.Conv2d(in_channels=in_channels,\n",
    "                              out_channels=out_channels,\n",
    "                              kernel_size=kernel_size,\n",
    "                              stride=1\n",
    "                              )\n",
    "\n",
    "    def forward(self, x):\n",
    "        return F.relu(self.conv(x))\n",
    "\n",
    "\n",
    "class PrimaryCaps(nn.Module):\n",
    "    def __init__(self, num_capsules=8, in_channels=256, out_channels=32, kernel_size=9, num_routes=32 * 6 * 6):\n",
    "        super(PrimaryCaps, self).__init__()\n",
    "        self.num_routes = num_routes\n",
    "        self.capsules = nn.ModuleList([\n",
    "            nn.Conv2d(in_channels=in_channels, out_channels=out_channels, kernel_size=kernel_size, stride=2, padding=0)\n",
    "            for _ in range(num_capsules)])\n",
    "\n",
    "    def forward(self, x):\n",
    "        u = [capsule(x) for capsule in self.capsules]\n",
    "        u = torch.stack(u, dim=1)\n",
    "\n",
    "        u = u.view(x.size(0), self.num_routes, -1)\n",
    "        return self.squash(u)\n",
    "\n",
    "    def squash(self, input_tensor):\n",
    "        squared_norm = (input_tensor ** 2).sum(-1, keepdim=True)\n",
    "        denom = ((1. + squared_norm) * torch.sqrt(squared_norm))\n",
    "        if torch.isinf(denom).sum().item()>0:\n",
    "            output_tensor = input_tensor / torch.sqrt(squared_norm)\n",
    "        else:\n",
    "            output_tensor = squared_norm * input_tensor / ((1. + squared_norm) * torch.sqrt(squared_norm))\n",
    "        return output_tensor\n",
    "\n",
    "\n",
    "class DigitCaps(nn.Module):\n",
    "    def __init__(self, num_capsules=10, num_routes=32 * 6 * 6, in_channels=8, out_channels=16):\n",
    "        super(DigitCaps, self).__init__()\n",
    "\n",
    "        self.in_channels = in_channels\n",
    "        self.num_routes = num_routes\n",
    "        self.num_capsules = num_capsules\n",
    "\n",
    "        self.W = nn.Parameter(torch.randn(1, num_routes, num_capsules, out_channels, in_channels))\n",
    "\n",
    "    def forward(self, x):\n",
    "        batch_size = x.size(0)\n",
    "        x = torch.stack([x] * self.num_capsules, dim=2).unsqueeze(4)\n",
    "\n",
    "        W = torch.cat([self.W] * batch_size, dim=0)\n",
    "        u_hat = torch.matmul(W,x)\n",
    "\n",
    "        b_ij = torch.zeros(1, self.num_routes, self.num_capsules, 1)\n",
    "        if USE_CUDA:\n",
    "            b_ij = b_ij.cuda()\n",
    "\n",
    "        num_iterations = 3\n",
    "        for iteration in range(num_iterations):\n",
    "            c_ij = F.softmax(b_ij, dim=1)\n",
    "            c_ij = torch.cat([c_ij] * batch_size, dim=0).unsqueeze(4)\n",
    "\n",
    "            s_j = (c_ij * u_hat).sum(dim=1, keepdim=True)\n",
    "            v_j = self.squash(s_j)\n",
    "\n",
    "            if iteration < num_iterations - 1:\n",
    "                a_ij = torch.matmul(u_hat.transpose(3, 4), torch.cat([v_j] * self.num_routes, dim=1))\n",
    "                b_ij = b_ij + a_ij.squeeze(4).mean(dim=0, keepdim=True)\n",
    "\n",
    "        return v_j.squeeze(1)\n",
    "\n",
    "    def squash(self, input_tensor):\n",
    "        squared_norm = (input_tensor ** 2).sum(-1, keepdim=True)\n",
    "        denom = ((1. + squared_norm) * torch.sqrt(squared_norm))\n",
    "        if torch.isinf(denom).sum().item()>0:\n",
    "            output_tensor = input_tensor / torch.sqrt(squared_norm)\n",
    "        else:\n",
    "            output_tensor = squared_norm * input_tensor / ((1. + squared_norm) * torch.sqrt(squared_norm))\n",
    "        return output_tensor\n",
    "\n",
    "\n",
    "class CapsNet(nn.Module):\n",
    "    def __init__(self, config=None):\n",
    "        super(CapsNet, self).__init__()\n",
    "        if config:\n",
    "            self.conv_layer = ConvLayer(config.cnn_in_channels, config.cnn_out_channels, config.cnn_kernel_size)\n",
    "            self.primary_capsules = PrimaryCaps(config.pc_num_capsules, config.pc_in_channels, config.pc_out_channels,\n",
    "                                                config.pc_kernel_size, config.pc_num_routes)\n",
    "            self.digit_capsules = DigitCaps(config.dc_num_capsules, config.dc_num_routes, config.dc_in_channels,\n",
    "                                            config.dc_out_channels)\n",
    "        else:\n",
    "            self.conv_layer = ConvLayer()\n",
    "            self.primary_capsules = PrimaryCaps()\n",
    "            self.digit_capsules = DigitCaps()\n",
    "\n",
    "    def forward(self, data):\n",
    "        output = self.digit_capsules(self.primary_capsules(self.conv_layer(data)))\n",
    "        return output"
   ]
  },
  {
   "cell_type": "code",
   "execution_count": 5,
   "metadata": {},
   "outputs": [],
   "source": [
    "class Config_1:\n",
    "    def __init__(self, in_channels):\n",
    "            # CNN (cnn)\n",
    "            self.cnn_in_channels = in_channels\n",
    "            self.cnn_out_channels = 256\n",
    "            self.cnn_kernel_size = 3\n",
    "\n",
    "            # Primary Capsule (pc)\n",
    "            self.pc_num_capsules = 8\n",
    "            self.pc_in_channels = 256\n",
    "            self.pc_out_channels = 32\n",
    "            self.pc_kernel_size = 3\n",
    "            self.pc_num_routes = 32 * 11 * 11\n",
    "\n",
    "            # Digit Capsule (dc)\n",
    "            self.dc_num_capsules = 10\n",
    "            self.dc_num_routes = 32 * 11 * 11\n",
    "            self.dc_in_channels = 8\n",
    "            self.dc_out_channels = 1\n",
    "\n",
    "class Config_2:\n",
    "    def __init__(self, in_channels):\n",
    "            # CNN (cnn)\n",
    "            self.cnn_in_channels = in_channels\n",
    "            self.cnn_out_channels = 256\n",
    "            self.cnn_kernel_size = 3\n",
    "\n",
    "            # Primary Capsule (pc)\n",
    "            self.pc_num_capsules = 8\n",
    "            self.pc_in_channels = 256\n",
    "            self.pc_out_channels = 32\n",
    "            self.pc_kernel_size = 3\n",
    "            self.pc_num_routes = 32 * 8 * 8\n",
    "\n",
    "            # Digit Capsule (dc)\n",
    "            self.dc_num_capsules = 10\n",
    "            self.dc_num_routes = 32 * 8 * 8\n",
    "            self.dc_in_channels = 8\n",
    "            self.dc_out_channels = 1\n",
    "\n",
    "class Config_3:\n",
    "    def __init__(self, in_channels):\n",
    "            # CNN (cnn)\n",
    "            self.cnn_in_channels = in_channels\n",
    "            self.cnn_out_channels = 256\n",
    "            self.cnn_kernel_size = 3\n",
    "\n",
    "            # Primary Capsule (pc)\n",
    "            self.pc_num_capsules = 8\n",
    "            self.pc_in_channels = 256\n",
    "            self.pc_out_channels = 32\n",
    "            self.pc_kernel_size = 3\n",
    "            self.pc_num_routes = 32 * 5 * 5\n",
    "\n",
    "            # Digit Capsule (dc)\n",
    "            self.dc_num_capsules = 10\n",
    "            self.dc_num_routes = 32 * 5 * 5\n",
    "            self.dc_in_channels = 8\n",
    "            self.dc_out_channels = 1"
   ]
  },
  {
   "cell_type": "code",
   "execution_count": 6,
   "metadata": {},
   "outputs": [],
   "source": [
    "class Net(nn.Module):\n",
    "    def __init__(self):\n",
    "        super(Net,self).__init__()\n",
    "        self.conv1 = nn.Conv2d(3,32,kernel_size = (3,3))\n",
    "        self.conv2 = nn.Conv2d(32,48,kernel_size = (3,3))\n",
    "        self.conv3 = nn.Conv2d(48,64,kernel_size = (3,3))\n",
    "        self.conv4 = nn.Conv2d(64,80,kernel_size = (3,3))\n",
    "        self.conv5 = nn.Conv2d(80,96,kernel_size = (3,3))\n",
    "        self.conv6 = nn.Conv2d(96,112,kernel_size = (3,3))\n",
    "        self.conv7 = nn.Conv2d(112,128,kernel_size = (3,3))\n",
    "        self.conv8 = nn.Conv2d(128,144,kernel_size = (3,3))\n",
    "        self.conv9 = nn.Conv2d(144,160,kernel_size = (3,3))\n",
    "        self.caps_a = CapsNet(Config_1(64))\n",
    "        self.caps_b = CapsNet(Config_2(112))\n",
    "        self.caps_c = CapsNet(Config_3(160))\n",
    "        self.merge_weight1= nn.Parameter(torch.randn(1))\n",
    "        self.merge_weight2= nn.Parameter(torch.randn(1))\n",
    "        self.merge_weight3= nn.Parameter(torch.randn(1))\n",
    "        self.relu = nn.ReLU()\n",
    "        self.batchnorm_branch1 = nn.BatchNorm2d(64)\n",
    "        self.batchnorm_branch2 = nn.BatchNorm2d(112)\n",
    "        self.batchnorm_branch3 = nn.BatchNorm2d(160)\n",
    "        self.upsample_conv1 = nn.Conv2d(3,48,kernel_size=(5,5))\n",
    "        self.upsample_conv2 = nn.Conv2d(48,80,kernel_size=(5,5))\n",
    "        self.upsample_conv3 = nn.Conv2d(80,112,kernel_size=(5,5))\n",
    "        self.upsample_conv4 = nn.Conv2d(112,144,kernel_size=(5,5))\n",
    "\n",
    "        self.k1= nn.Parameter(torch.randn(1))\n",
    "        self.k2= nn.Parameter(torch.randn(1))\n",
    "        self.k3= nn.Parameter(torch.randn(1))\n",
    "        self.k4= nn.Parameter(torch.randn(1))\n",
    "        \n",
    "    def forward(self,x):\n",
    "        branch1 = self.conv1(x)\n",
    "        branch1 = self.relu(branch1)\n",
    "        branch1 = self.conv2(branch1)\n",
    "        branch1 = self.relu(branch1)\n",
    "\n",
    "        branch1 += self.k1 * self.upsample_conv1(x)\n",
    "        x1 = branch1.clone()\n",
    "        \n",
    "        branch1 = self.conv3(branch1)\n",
    "        branch1 = self.relu(branch1)\n",
    "        branch2 = self.conv4(branch1)\n",
    "        branch2 = self.relu(branch2)\n",
    "\n",
    "        branch2 += self.k2 * self.upsample_conv2(x1)\n",
    "        x1 = branch2.clone()\n",
    "\n",
    "        branch2 = self.conv5(branch2)\n",
    "        branch2 = self.relu(branch2)\n",
    "        branch2 = self.conv6(branch2)\n",
    "        branch2 = self.relu(branch2)\n",
    "\n",
    "        branch2 += self.k3 * self.upsample_conv3(x1)\n",
    "        x1 = branch2.clone()\n",
    "\n",
    "        branch3 = self.conv7(branch2)\n",
    "        branch3 = self.relu(branch3)\n",
    "        branch3 = self.conv8(branch3)\n",
    "        branch3 = self.relu(branch3)\n",
    "\n",
    "        branch3 += self.k4 * self.upsample_conv4(x1)\n",
    "\n",
    "        branch3 = self.conv9(branch3)\n",
    "        branch3 = self.relu(branch3)\n",
    "\n",
    "        #Batch Normalizing \n",
    "        branch1 = self.batchnorm_branch1(branch1)\n",
    "        branch2 = self.batchnorm_branch2(branch2)\n",
    "        branch3 = self.batchnorm_branch3(branch3)\n",
    "\n",
    "        branch1_out = self.caps_a(branch1)\n",
    "        branch2_out = self.caps_b(branch2)\n",
    "        branch3_out = self.caps_c(branch3)\n",
    "\n",
    "        branch1_out = torch.sqrt((branch1_out ** 2).sum(dim=2, keepdim=True)).view(-1,10)\n",
    "        branch2_out = torch.sqrt((branch2_out ** 2).sum(dim=2, keepdim=True)).view(-1,10)\n",
    "        branch3_out = torch.sqrt((branch3_out ** 2).sum(dim=2, keepdim=True)).view(-1,10)\n",
    "        \n",
    "        out1 = self.merge_weight1 * branch1_out\n",
    "        out2 = self.merge_weight1 * branch2_out\n",
    "        out3 = self.merge_weight1 * branch3_out\n",
    "        stack = torch.stack([out1,out3,out3],dim = 0)\n",
    "        summed = torch.sum(stack,dim = 0)\n",
    "        return summed"
   ]
  },
  {
   "cell_type": "code",
   "execution_count": 8,
   "metadata": {},
   "outputs": [
    {
     "name": "stderr",
     "output_type": "stream",
     "text": [
      "F:\\Anaconda\\Anaconda3\\envs\\deep\\lib\\site-packages\\torch\\serialization.py:559: UserWarning: Couldn't retrieve source code for container of type Net. It won't be checked for correctness upon loading.\n",
      "  \"type \" + container_type.__name__ + \". It won't be checked \"\n",
      "F:\\Anaconda\\Anaconda3\\envs\\deep\\lib\\site-packages\\torch\\serialization.py:559: UserWarning: Couldn't retrieve source code for container of type CapsNet. It won't be checked for correctness upon loading.\n",
      "  \"type \" + container_type.__name__ + \". It won't be checked \"\n",
      "F:\\Anaconda\\Anaconda3\\envs\\deep\\lib\\site-packages\\torch\\serialization.py:559: UserWarning: Couldn't retrieve source code for container of type ConvLayer. It won't be checked for correctness upon loading.\n",
      "  \"type \" + container_type.__name__ + \". It won't be checked \"\n",
      "F:\\Anaconda\\Anaconda3\\envs\\deep\\lib\\site-packages\\torch\\serialization.py:559: UserWarning: Couldn't retrieve source code for container of type PrimaryCaps. It won't be checked for correctness upon loading.\n",
      "  \"type \" + container_type.__name__ + \". It won't be checked \"\n",
      "F:\\Anaconda\\Anaconda3\\envs\\deep\\lib\\site-packages\\torch\\serialization.py:559: UserWarning: Couldn't retrieve source code for container of type DigitCaps. It won't be checked for correctness upon loading.\n",
      "  \"type \" + container_type.__name__ + \". It won't be checked \"\n"
     ]
    }
   ],
   "source": [
    "net = torch.load('modified_capsnet_cifar10.pt')"
   ]
  },
  {
   "cell_type": "code",
   "execution_count": 10,
   "metadata": {},
   "outputs": [],
   "source": [
    "predict = []\n",
    "true = []\n",
    "if USE_CUDA:\n",
    "    net = net.cuda()\n",
    "with torch.no_grad():\n",
    "    for data in testloader:\n",
    "        images, labels = data\n",
    "        if USE_CUDA:\n",
    "            images = images.cuda()\n",
    "            net = net.cuda()\n",
    "        outputs = net(images)\n",
    "        predicted = torch.argmax(outputs.data, 1)\n",
    "        predict.extend(predicted.tolist())\n",
    "        true.extend(labels.tolist())"
   ]
  },
  {
   "cell_type": "code",
   "execution_count": 11,
   "metadata": {},
   "outputs": [
    {
     "name": "stdout",
     "output_type": "stream",
     "text": [
      "Accuracy :  0.757\n",
      "Precision Score 0.7691044729832307\n",
      "Recall Score 0.757\n",
      "F1 Score 0.7549208604587312\n"
     ]
    }
   ],
   "source": [
    "print(\"Accuracy : \",accuracy_score(true,predict))\n",
    "print(\"Precision Score\",np.mean(precision_score(true,predict,average=None)))\n",
    "print(\"Recall Score\",np.mean(recall_score(true,predict,average=None)))\n",
    "print(\"F1 Score\",np.mean(f1_score(true,predict,average=None)))"
   ]
  },
  {
   "cell_type": "code",
   "execution_count": 17,
   "metadata": {},
   "outputs": [
    {
     "name": "stderr",
     "output_type": "stream",
     "text": [
      "Clipping input data to the valid range for imshow with RGB data ([0..1] for floats or [0..255] for integers).\n",
      "Clipping input data to the valid range for imshow with RGB data ([0..1] for floats or [0..255] for integers).\n",
      "Clipping input data to the valid range for imshow with RGB data ([0..1] for floats or [0..255] for integers).\n",
      "Clipping input data to the valid range for imshow with RGB data ([0..1] for floats or [0..255] for integers).\n",
      "Clipping input data to the valid range for imshow with RGB data ([0..1] for floats or [0..255] for integers).\n",
      "Clipping input data to the valid range for imshow with RGB data ([0..1] for floats or [0..255] for integers).\n",
      "Clipping input data to the valid range for imshow with RGB data ([0..1] for floats or [0..255] for integers).\n",
      "Clipping input data to the valid range for imshow with RGB data ([0..1] for floats or [0..255] for integers).\n",
      "Clipping input data to the valid range for imshow with RGB data ([0..1] for floats or [0..255] for integers).\n",
      "Clipping input data to the valid range for imshow with RGB data ([0..1] for floats or [0..255] for integers).\n"
     ]
    },
    {
     "data": {
      "image/png": "[encoded data removed]",
      "text/plain": [
       "<Figure size 720x720 with 10 Axes>"
      ]
     },
     "metadata": {
      "needs_background": "light"
     },
     "output_type": "display_data"
    }
   ],
   "source": [
    "testloader = torch.utils.data.DataLoader(testset,shuffle=False, num_workers=2, batch_size = 1)\n",
    "wrong = 0\n",
    "row = 2\n",
    "col = 5\n",
    "figure = plt.figure(figsize=(10, 10))\n",
    "with torch.no_grad():\n",
    "    for data in testloader:\n",
    "        image,label = data\n",
    "        image = image.cuda()\n",
    "        net = net.cuda()\n",
    "        pred = net(image)\n",
    "        pred = torch.argmax(pred.data, 1)\n",
    "        if pred.item() != label.item():\n",
    "            wrong += 1\n",
    "            img = image[0].cpu().numpy()\n",
    "            img = img.transpose(2,1,0)\n",
    "            plt.subplot(row,col,wrong)\n",
    "            plt.title(\"pred:{}  true:{}\".format(cifar10_labels[pred.item()],cifar10_labels[label.item()]))\n",
    "            plt.imshow(img)\n",
    "            if wrong > 9:\n",
    "                break\n",
    "figure.tight_layout(pad=0.6)"
   ]
  },
  {
   "cell_type": "code",
   "execution_count": 15,
   "metadata": {},
   "outputs": [
    {
     "data": {
      "text/plain": [
       "4568055"
      ]
     },
     "execution_count": 15,
     "metadata": {},
     "output_type": "execute_result"
    }
   ],
   "source": [
    "sum(p.numel() for p in net.parameters() if p.requires_grad)"
   ]
  }
 ],
 "metadata": {
  "kernelspec": {
   "display_name": "deep",
   "language": "python",
   "name": "deep"
  },
  "language_info": {
   "codemirror_mode": {
    "name": "ipython",
    "version": 3
   },
   "file_extension": ".py",
   "mimetype": "text/x-python",
   "name": "python",
   "nbconvert_exporter": "python",
   "pygments_lexer": "ipython3",
   "version": "3.6.10"
  }
 },
 "nbformat": 4,
 "nbformat_minor": 4
}
